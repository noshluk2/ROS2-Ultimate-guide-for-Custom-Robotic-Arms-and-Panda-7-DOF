{
  "cells": [
    {
      "cell_type": "markdown",
      "metadata": {
        "id": "Fggh7br8yCuj"
      },
      "source": [
        "## Installations and Importing"
      ]
    },
    {
      "cell_type": "code",
      "execution_count": 1,
      "metadata": {
        "id": "YxY_uK-rxVwg"
      },
      "outputs": [
        {
          "name": "stdout",
          "output_type": "stream",
          "text": [
            "Requirement already satisfied: roboticstoolbox-python in /usr/local/lib/python3.10/dist-packages (1.1.1)\n",
            "Requirement already satisfied: numpy>=1.17.4 in /home/luqman/.local/lib/python3.10/site-packages (from roboticstoolbox-python) (1.26.4)\n",
            "Requirement already satisfied: spatialmath-python>=1.1.5 in /usr/local/lib/python3.10/dist-packages (from roboticstoolbox-python) (1.1.10)\n",
            "Requirement already satisfied: spatialgeometry>=1.0.0 in /usr/local/lib/python3.10/dist-packages (from roboticstoolbox-python) (1.1.0)\n",
            "Requirement already satisfied: pgraph-python in /usr/local/lib/python3.10/dist-packages (from roboticstoolbox-python) (0.6.2)\n",
            "Requirement already satisfied: scipy in /home/luqman/.local/lib/python3.10/site-packages (from roboticstoolbox-python) (1.11.4)\n",
            "Requirement already satisfied: matplotlib in /home/luqman/.local/lib/python3.10/site-packages (from roboticstoolbox-python) (3.7.5)\n",
            "Requirement already satisfied: ansitable in /usr/local/lib/python3.10/dist-packages (from roboticstoolbox-python) (0.9.10)\n",
            "Requirement already satisfied: swift-sim>=1.0.0 in /usr/local/lib/python3.10/dist-packages (from roboticstoolbox-python) (1.1.0)\n",
            "Requirement already satisfied: rtb-data in /usr/local/lib/python3.10/dist-packages (from roboticstoolbox-python) (1.0.1)\n",
            "Requirement already satisfied: progress in /usr/local/lib/python3.10/dist-packages (from roboticstoolbox-python) (1.6)\n",
            "Requirement already satisfied: typing-extensions in /home/luqman/.local/lib/python3.10/site-packages (from roboticstoolbox-python) (4.5.0)\n",
            "Requirement already satisfied: pre-commit in /home/luqman/.local/lib/python3.10/site-packages (from spatialmath-python>=1.1.5->roboticstoolbox-python) (3.3.3)\n",
            "Requirement already satisfied: websockets in /home/luqman/.local/lib/python3.10/site-packages (from swift-sim>=1.0.0->roboticstoolbox-python) (11.0.2)\n",
            "Requirement already satisfied: colored<1.5.0 in /usr/local/lib/python3.10/dist-packages (from ansitable->roboticstoolbox-python) (1.4.4)\n",
            "Requirement already satisfied: contourpy>=1.0.1 in /home/luqman/.local/lib/python3.10/site-packages (from matplotlib->roboticstoolbox-python) (1.1.1)\n",
            "Requirement already satisfied: cycler>=0.10 in /home/luqman/.local/lib/python3.10/site-packages (from matplotlib->roboticstoolbox-python) (0.11.0)\n",
            "Requirement already satisfied: fonttools>=4.22.0 in /home/luqman/.local/lib/python3.10/site-packages (from matplotlib->roboticstoolbox-python) (4.42.1)\n",
            "Requirement already satisfied: kiwisolver>=1.0.1 in /home/luqman/.local/lib/python3.10/site-packages (from matplotlib->roboticstoolbox-python) (1.4.5)\n",
            "Requirement already satisfied: packaging>=20.0 in /home/luqman/.local/lib/python3.10/site-packages (from matplotlib->roboticstoolbox-python) (23.1)\n",
            "Requirement already satisfied: pillow>=6.2.0 in /home/luqman/.local/lib/python3.10/site-packages (from matplotlib->roboticstoolbox-python) (9.5.0)\n",
            "Requirement already satisfied: pyparsing>=2.3.1 in /home/luqman/.local/lib/python3.10/site-packages (from matplotlib->roboticstoolbox-python) (3.1.1)\n",
            "Requirement already satisfied: python-dateutil>=2.7 in /home/luqman/.local/lib/python3.10/site-packages (from matplotlib->roboticstoolbox-python) (2.8.2)\n",
            "Requirement already satisfied: six>=1.5 in /home/luqman/.local/lib/python3.10/site-packages (from python-dateutil>=2.7->matplotlib->roboticstoolbox-python) (1.16.0)\n",
            "Requirement already satisfied: cfgv>=2.0.0 in /home/luqman/.local/lib/python3.10/site-packages (from pre-commit->spatialmath-python>=1.1.5->roboticstoolbox-python) (3.3.1)\n",
            "Requirement already satisfied: identify>=1.0.0 in /home/luqman/.local/lib/python3.10/site-packages (from pre-commit->spatialmath-python>=1.1.5->roboticstoolbox-python) (2.5.24)\n",
            "Requirement already satisfied: nodeenv>=0.11.1 in /home/luqman/.local/lib/python3.10/site-packages (from pre-commit->spatialmath-python>=1.1.5->roboticstoolbox-python) (1.8.0)\n",
            "Requirement already satisfied: pyyaml>=5.1 in /home/luqman/.local/lib/python3.10/site-packages (from pre-commit->spatialmath-python>=1.1.5->roboticstoolbox-python) (6.0)\n",
            "Requirement already satisfied: virtualenv>=20.10.0 in /home/luqman/.local/lib/python3.10/site-packages (from pre-commit->spatialmath-python>=1.1.5->roboticstoolbox-python) (20.23.0)\n",
            "Requirement already satisfied: setuptools in /usr/local/lib/python3.10/dist-packages (from nodeenv>=0.11.1->pre-commit->spatialmath-python>=1.1.5->roboticstoolbox-python) (58.2.0)\n",
            "Requirement already satisfied: distlib<1,>=0.3.6 in /home/luqman/.local/lib/python3.10/site-packages (from virtualenv>=20.10.0->pre-commit->spatialmath-python>=1.1.5->roboticstoolbox-python) (0.3.6)\n",
            "Requirement already satisfied: filelock<4,>=3.11 in /home/luqman/.local/lib/python3.10/site-packages (from virtualenv>=20.10.0->pre-commit->spatialmath-python>=1.1.5->roboticstoolbox-python) (3.12.2)\n",
            "Requirement already satisfied: platformdirs<4,>=3.2 in /home/luqman/.local/lib/python3.10/site-packages (from virtualenv>=20.10.0->pre-commit->spatialmath-python>=1.1.5->roboticstoolbox-python) (3.5.3)\n"
          ]
        }
      ],
      "source": [
        "!pip3 install roboticstoolbox-python"
      ]
    },
    {
      "cell_type": "markdown",
      "metadata": {
        "id": "_h69MndOAhEn"
      },
      "source": [
        "### Installation and importing "
      ]
    },
    {
      "cell_type": "code",
      "execution_count": 3,
      "metadata": {
        "id": "V95jYG7q7R-E"
      },
      "outputs": [],
      "source": [
        "\n",
        "import math\n",
        "from spatialmath.base import *\n",
        "from spatialmath import SE3\n",
        "import spatialmath.base.symbolic as sym\n",
        "import numpy as np\n",
        "import roboticstoolbox as rtb"
      ]
    },
    {
      "cell_type": "markdown",
      "metadata": {
        "id": "rhJRulJsTguA"
      },
      "source": [
        "## Robotic Arm Model PUMA-560"
      ]
    },
    {
      "cell_type": "code",
      "execution_count": 5,
      "metadata": {
        "colab": {
          "base_uri": "https://localhost:8080/"
        },
        "id": "s5EwOTExWjTf",
        "outputId": "70706ad1-3ca3-4f5d-d0f9-f643a0d1647c"
      },
      "outputs": [
        {
          "name": "stdout",
          "output_type": "stream",
          "text": [
            "DHRobot: Puma 560 (by Unimation), 6 joints (RRRRRR), dynamics, geometry, standard DH parameters\n",
            "┌────┬────────┬────────┬────────┬─────────┬────────┐\n",
            "│θⱼ  │   dⱼ   │   aⱼ   │   ⍺ⱼ   │   q⁻    │   q⁺   │\n",
            "├────┼────────┼────────┼────────┼─────────┼────────┤\n",
            "│ q1\u001b[0m │ 0.6718\u001b[0m │      0\u001b[0m │  90.0°\u001b[0m │ -160.0°\u001b[0m │ 160.0°\u001b[0m │\n",
            "│ q2\u001b[0m │      0\u001b[0m │ 0.4318\u001b[0m │   0.0°\u001b[0m │ -110.0°\u001b[0m │ 110.0°\u001b[0m │\n",
            "│ q3\u001b[0m │   0.15\u001b[0m │ 0.0203\u001b[0m │ -90.0°\u001b[0m │ -135.0°\u001b[0m │ 135.0°\u001b[0m │\n",
            "│ q4\u001b[0m │ 0.4318\u001b[0m │      0\u001b[0m │  90.0°\u001b[0m │ -266.0°\u001b[0m │ 266.0°\u001b[0m │\n",
            "│ q5\u001b[0m │      0\u001b[0m │      0\u001b[0m │ -90.0°\u001b[0m │ -100.0°\u001b[0m │ 100.0°\u001b[0m │\n",
            "│ q6\u001b[0m │      0\u001b[0m │      0\u001b[0m │   0.0°\u001b[0m │ -266.0°\u001b[0m │ 266.0°\u001b[0m │\n",
            "└────┴────────┴────────┴────────┴─────────┴────────┘\n",
            "\n",
            "┌─┬──┐\n",
            "└─┴──┘\n",
            "\n",
            "┌─────┬─────┬──────┬───────┬─────┬──────┬─────┐\n",
            "│name │ q0  │ q1   │ q2    │ q3  │ q4   │ q5  │\n",
            "├─────┼─────┼──────┼───────┼─────┼──────┼─────┤\n",
            "│  qr\u001b[0m │  0°\u001b[0m │  90°\u001b[0m │ -90°\u001b[0m  │  0°\u001b[0m │  0°\u001b[0m  │  0°\u001b[0m │\n",
            "│  qz\u001b[0m │  0°\u001b[0m │  0°\u001b[0m  │  0°\u001b[0m   │  0°\u001b[0m │  0°\u001b[0m  │  0°\u001b[0m │\n",
            "│  qn\u001b[0m │  0°\u001b[0m │  45°\u001b[0m │  180°\u001b[0m │  0°\u001b[0m │  45°\u001b[0m │  0°\u001b[0m │\n",
            "│  qs\u001b[0m │  0°\u001b[0m │  0°\u001b[0m  │ -90°\u001b[0m  │  0°\u001b[0m │  0°\u001b[0m  │  0°\u001b[0m │\n",
            "└─────┴─────┴──────┴───────┴─────┴──────┴─────┘\n",
            "\n"
          ]
        }
      ],
      "source": [
        "## Printing its DH table\n",
        "p560 = rtb.models.DH.Puma560()\n",
        "print(p560)\n"
      ]
    },
    {
      "cell_type": "markdown",
      "metadata": {
        "id": "gdYL79q4ZoeS"
      },
      "source": [
        "### Forward Kinematics"
      ]
    },
    {
      "cell_type": "code",
      "execution_count": 6,
      "metadata": {
        "colab": {
          "base_uri": "https://localhost:8080/"
        },
        "id": "WY_NvV_VBnl-",
        "outputId": "a75a9000-73bf-4373-d7f2-358e1b6412a2"
      },
      "outputs": [
        {
          "data": {
            "text/plain": [
              "  \u001b[38;5;1m 1       \u001b[0m \u001b[38;5;1m 0       \u001b[0m \u001b[38;5;1m 0       \u001b[0m \u001b[38;5;4m 0.4521  \u001b[0m  \u001b[0m\n",
              "  \u001b[38;5;1m 0       \u001b[0m \u001b[38;5;1m 1       \u001b[0m \u001b[38;5;1m 0       \u001b[0m \u001b[38;5;4m-0.15    \u001b[0m  \u001b[0m\n",
              "  \u001b[38;5;1m 0       \u001b[0m \u001b[38;5;1m 0       \u001b[0m \u001b[38;5;1m 1       \u001b[0m \u001b[38;5;4m 1.104   \u001b[0m  \u001b[0m\n",
              "  \u001b[38;5;244m 0       \u001b[0m \u001b[38;5;244m 0       \u001b[0m \u001b[38;5;244m 0       \u001b[0m \u001b[38;5;244m 1       \u001b[0m  \u001b[0m\n"
            ]
          },
          "execution_count": 6,
          "metadata": {},
          "output_type": "execute_result"
        }
      ],
      "source": [
        "p560.fkine([0, 0, 0, 0, 0, 0])    # solving the forward kinematic on given angles."
      ]
    },
    {
      "cell_type": "code",
      "execution_count": null,
      "metadata": {
        "colab": {
          "base_uri": "https://localhost:8080/"
        },
        "id": "Ifasq-9BUkC8",
        "outputId": "39842c3e-7aeb-416e-b786-a26c2a4a8d7f"
      },
      "outputs": [
        {
          "data": {
            "text/plain": [
              "  \u001b[38;5;1m-0.1777  \u001b[0m \u001b[38;5;1m-0.9684  \u001b[0m \u001b[38;5;1m-0.175   \u001b[0m \u001b[38;5;4m-0.2547  \u001b[0m  \u001b[0m\n",
              "  \u001b[38;5;1m 0.9577  \u001b[0m \u001b[38;5;1m-0.211   \u001b[0m \u001b[38;5;1m 0.1955  \u001b[0m \u001b[38;5;4m 0.5096  \u001b[0m  \u001b[0m\n",
              "  \u001b[38;5;1m-0.2263  \u001b[0m \u001b[38;5;1m-0.1329  \u001b[0m \u001b[38;5;1m 0.965   \u001b[0m \u001b[38;5;4m 0.9699  \u001b[0m  \u001b[0m\n",
              "  \u001b[38;5;244m 0       \u001b[0m \u001b[38;5;244m 0       \u001b[0m \u001b[38;5;244m 0       \u001b[0m \u001b[38;5;244m 1       \u001b[0m  \u001b[0m\n"
            ]
          },
          "execution_count": 30,
          "metadata": {},
          "output_type": "execute_result"
        }
      ],
      "source": [
        "q=[40, 50, 0,90, 0, 10]\n",
        "p560.fkine(q)    # solving the forward kinematic on given angles."
      ]
    },
    {
      "cell_type": "markdown",
      "metadata": {
        "id": "HT_KCzNsBcNz"
      },
      "source": [
        "### Inverse Kinematics "
      ]
    },
    {
      "cell_type": "code",
      "execution_count": 7,
      "metadata": {
        "colab": {
          "base_uri": "https://localhost:8080/"
        },
        "id": "KTV2rqraMRb0",
        "outputId": "bc65ccfa-7dc9-4a00-8952-478a949a3049"
      },
      "outputs": [
        {
          "data": {
            "text/plain": [
              "IKSolution(q=array([ 2.21921185, -2.41679954,  4.75643145, -6.2831853 , -2.33966827,\n",
              "        4.06397346]), success=False, iterations=3000, searches=100, residual=0.011737243353156889, reason='iteration and search limit reached')"
            ]
          },
          "execution_count": 7,
          "metadata": {},
          "output_type": "execute_result"
        }
      ],
      "source": [
        "point = SE3(0.6, -0.5, 0.0)\n",
        "point_sol = p560.ikine_LM(point)\n",
        "point_sol"
      ]
    },
    {
      "cell_type": "markdown",
      "metadata": {
        "id": "shjAOhcEGU_g"
      },
      "source": [
        "### Trajectory Generation"
      ]
    },
    {
      "cell_type": "code",
      "execution_count": 8,
      "metadata": {
        "colab": {
          "base_uri": "https://localhost:8080/"
        },
        "id": "HTU5Kxf2Gbtf",
        "outputId": "b3a37143-653e-47d3-a463-55717645576b"
      },
      "outputs": [
        {
          "name": "stdout",
          "output_type": "stream",
          "text": [
            "Each row contains 6 joint angles and we have 200 of them\n"
          ]
        },
        {
          "data": {
            "text/plain": [
              "(200, 6)"
            ]
          },
          "execution_count": 8,
          "metadata": {},
          "output_type": "execute_result"
        }
      ],
      "source": [
        "p560 = rtb.models.DH.Puma560()\n",
        "t = np.arange(0, 2, 0.010) # creating 200 steps\n",
        "point_1 = SE3(0.6, -0.5, 0.0) ## starting point in 3D space\n",
        "point_2 = SE3(0.4, 0.5, 0.2)## ending point in 3D space\n",
        "Ts = rtb.tools.trajectory.ctraj(point_1, point_2, len(t)) ## Calculating trajectory between points\n",
        "sol = p560.ikine_LM(Ts) ## Generating Inverse kinematics solution for 200 points\n",
        "print(\"Each row contains 6 joint angles and we have 200 of them\" )\n",
        "sol.q.shape"
      ]
    },
    {
      "cell_type": "markdown",
      "metadata": {
        "id": "9fZywEoFU7AH"
      },
      "source": [
        "### Making things Symbolic for **Generating Equations**"
      ]
    },
    {
      "cell_type": "code",
      "execution_count": 9,
      "metadata": {
        "id": "a63188ZmBy5I"
      },
      "outputs": [
        {
          "name": "stdout",
          "output_type": "stream",
          "text": [
            "(q_0, q_1, q_2, q_3, q_4, q_5)\n"
          ]
        }
      ],
      "source": [
        "p560_symblic = rtb.models.DH.Puma560(symbolic=True)\n",
        "# Creating Symbolic variables for angles -> to obtain equations\n",
        "q = sym.symbol('q_:6')\n",
        "print(q)"
      ]
    },
    {
      "cell_type": "code",
      "execution_count": 10,
      "metadata": {
        "id": "Axwf167TDXKq"
      },
      "outputs": [],
      "source": [
        "symbolic_trasformation_matrix = p560_symblic.fkine(q)"
      ]
    },
    {
      "cell_type": "markdown",
      "metadata": {
        "id": "f0WAEnp9hHjS"
      },
      "source": [
        "------------------------------------------------------------------------------------"
      ]
    },
    {
      "cell_type": "markdown",
      "metadata": {
        "id": "P_UNZu12XYfZ"
      },
      "source": [
        "## Franka Emika Panda Robot"
      ]
    },
    {
      "cell_type": "markdown",
      "metadata": {
        "id": "yCLziOpFXdup"
      },
      "source": [
        "### Forward Kinematics"
      ]
    },
    {
      "cell_type": "markdown",
      "metadata": {
        "id": "HWHAKftXZK3i"
      },
      "source": [
        "\n",
        "![panda.png](data:image/png;base64,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)\n",
        "\n",
        "\n",
        "[Reference Link](https://www.semanticscholar.org/paper/Extracting-feasible-robot-parameters-from-dynamic-Gaz-Flacco/9daa694e11d9d62fa7fbce5c36b854a6a9413237/figure/1)"
      ]
    },
    {
      "cell_type": "code",
      "execution_count": 12,
      "metadata": {
        "colab": {
          "base_uri": "https://localhost:8080/"
        },
        "id": "H5d-G-9mXduq",
        "outputId": "a00ae1a6-3791-4cdb-d051-68137d0567da"
      },
      "outputs": [
        {
          "name": "stdout",
          "output_type": "stream",
          "text": [
            "ERobot: panda (by Franka Emika), 7 joints (RRRRRRR), 1 gripper, geometry, collision\n",
            "┌─────┬──────────────┬───────┬─────────────┬────────────────────────────────────────────────┐\n",
            "│link │     link     │ joint │   parent    │              ETS: parent to link               │\n",
            "├─────┼──────────────┼───────┼─────────────┼────────────────────────────────────────────────┤\n",
            "│   0\u001b[0m │ \u001b[38;5;4mpanda_link0\u001b[0m  │      \u001b[0m │ BASE\u001b[0m        │ SE3()\u001b[0m                                          │\n",
            "│   1\u001b[0m │ panda_link1\u001b[0m  │     0\u001b[0m │ panda_link0\u001b[0m │ SE3(0, 0, 0.333) ⊕ Rz(q0)\u001b[0m                      │\n",
            "│   2\u001b[0m │ panda_link2\u001b[0m  │     1\u001b[0m │ panda_link1\u001b[0m │ SE3(-90°, -0°, 0°) ⊕ Rz(q1)\u001b[0m                    │\n",
            "│   3\u001b[0m │ panda_link3\u001b[0m  │     2\u001b[0m │ panda_link2\u001b[0m │ SE3(0, -0.316, 0; 90°, -0°, 0°) ⊕ Rz(q2)\u001b[0m       │\n",
            "│   4\u001b[0m │ panda_link4\u001b[0m  │     3\u001b[0m │ panda_link3\u001b[0m │ SE3(0.0825, 0, 0; 90°, -0°, 0°) ⊕ Rz(q3)\u001b[0m       │\n",
            "│   5\u001b[0m │ panda_link5\u001b[0m  │     4\u001b[0m │ panda_link4\u001b[0m │ SE3(-0.0825, 0.384, 0; -90°, -0°, 0°) ⊕ Rz(q4)\u001b[0m │\n",
            "│   6\u001b[0m │ panda_link6\u001b[0m  │     5\u001b[0m │ panda_link5\u001b[0m │ SE3(90°, -0°, 0°) ⊕ Rz(q5)\u001b[0m                     │\n",
            "│   7\u001b[0m │ panda_link7\u001b[0m  │     6\u001b[0m │ panda_link6\u001b[0m │ SE3(0.088, 0, 0; 90°, -0°, 0°) ⊕ Rz(q6)\u001b[0m        │\n",
            "│   8\u001b[0m │ \u001b[38;5;4m@panda_link8\u001b[0m │      \u001b[0m │ panda_link7\u001b[0m │ SE3(0, 0, 0.107)\u001b[0m                               │\n",
            "└─────┴──────────────┴───────┴─────────────┴────────────────────────────────────────────────┘\n",
            "\n",
            "┌─────┬─────┬────────┬─────┬───────┬─────┬───────┬──────┐\n",
            "│name │ q0  │ q1     │ q2  │ q3    │ q4  │ q5    │ q6   │\n",
            "├─────┼─────┼────────┼─────┼───────┼─────┼───────┼──────┤\n",
            "│  qr\u001b[0m │  0°\u001b[0m │ -17.2°\u001b[0m │  0°\u001b[0m │ -126°\u001b[0m │  0°\u001b[0m │  115°\u001b[0m │  45°\u001b[0m │\n",
            "│  qz\u001b[0m │  0°\u001b[0m │  0°\u001b[0m    │  0°\u001b[0m │  0°\u001b[0m   │  0°\u001b[0m │  0°\u001b[0m   │  0°\u001b[0m  │\n",
            "└─────┴─────┴────────┴─────┴───────┴─────┴───────┴──────┘\n",
            "\n",
            "  \u001b[38;5;1m 0.7071  \u001b[0m \u001b[38;5;1m 0.7071  \u001b[0m \u001b[38;5;1m 0       \u001b[0m \u001b[38;5;4m 0.088   \u001b[0m  \u001b[0m\n",
            "  \u001b[38;5;1m 0.7071  \u001b[0m \u001b[38;5;1m-0.7071  \u001b[0m \u001b[38;5;1m 0       \u001b[0m \u001b[38;5;4m 0       \u001b[0m  \u001b[0m\n",
            "  \u001b[38;5;1m 0       \u001b[0m \u001b[38;5;1m 0       \u001b[0m \u001b[38;5;1m-1       \u001b[0m \u001b[38;5;4m 0.926   \u001b[0m  \u001b[0m\n",
            "  \u001b[38;5;244m 0       \u001b[0m \u001b[38;5;244m 0       \u001b[0m \u001b[38;5;244m 0       \u001b[0m \u001b[38;5;244m 1       \u001b[0m  \u001b[0m\n",
            "\n"
          ]
        }
      ],
      "source": [
        "panda = rtb.models.URDF.Panda()\n",
        "print(panda)\n",
        "T = panda.fkine(panda.qz, end='panda_hand')\n",
        "print(T)"
      ]
    },
    {
      "cell_type": "code",
      "execution_count": 13,
      "metadata": {
        "colab": {
          "base_uri": "https://localhost:8080/"
        },
        "id": "nrfpgySFb9Bb",
        "outputId": "011bb269-028e-41bd-b196-ea9c427be0f1"
      },
      "outputs": [
        {
          "ename": "TypeError",
          "evalue": "'IKSolution' object is not subscriptable",
          "output_type": "error",
          "traceback": [
            "\u001b[0;31m---------------------------------------------------------------------------\u001b[0m",
            "\u001b[0;31mTypeError\u001b[0m                                 Traceback (most recent call last)",
            "Cell \u001b[0;32mIn[13], line 1\u001b[0m\n\u001b[0;32m----> 1\u001b[0m T\u001b[38;5;241m=\u001b[39mpanda\u001b[38;5;241m.\u001b[39mfkine(\u001b[43mpoint_sol\u001b[49m\u001b[43m[\u001b[49m\u001b[38;5;241;43m0\u001b[39;49m\u001b[43m]\u001b[49m)\n\u001b[1;32m      2\u001b[0m \u001b[38;5;28mprint\u001b[39m(\u001b[38;5;124m\"\u001b[39m\u001b[38;5;124mTransformation matrix containing same translation part\u001b[39m\u001b[38;5;130;01m\\n\u001b[39;00m\u001b[38;5;124m\"\u001b[39m)\n\u001b[1;32m      3\u001b[0m \u001b[38;5;28mprint\u001b[39m(T)\n",
            "\u001b[0;31mTypeError\u001b[0m: 'IKSolution' object is not subscriptable"
          ]
        }
      ],
      "source": [
        "T=panda.fkine(point_sol[0])\n",
        "print(\"Transformation matrix containing same translation part\\n\")\n",
        "print(T)"
      ]
    },
    {
      "cell_type": "code",
      "execution_count": 15,
      "metadata": {
        "colab": {
          "base_uri": "https://localhost:8080/"
        },
        "id": "eH83XsYAXdus",
        "outputId": "5b1a45ca-8dfe-4a48-cf3f-6e27509b790d"
      },
      "outputs": [
        {
          "name": "stdout",
          "output_type": "stream",
          "text": [
            "[0.52359878 0.         0.         0.         0.         0.\n",
            " 0.        ]\n",
            "Transformation Matrix :\n",
            "   \u001b[38;5;1m 0.2588  \u001b[0m \u001b[38;5;1m 0.9659  \u001b[0m \u001b[38;5;1m 0       \u001b[0m \u001b[38;5;4m 0.07621 \u001b[0m  \u001b[0m\n",
            "  \u001b[38;5;1m 0.9659  \u001b[0m \u001b[38;5;1m-0.2588  \u001b[0m \u001b[38;5;1m 0       \u001b[0m \u001b[38;5;4m 0.044   \u001b[0m  \u001b[0m\n",
            "  \u001b[38;5;1m 0       \u001b[0m \u001b[38;5;1m 0       \u001b[0m \u001b[38;5;1m-1       \u001b[0m \u001b[38;5;4m 0.8226  \u001b[0m  \u001b[0m\n",
            "  \u001b[38;5;244m 0       \u001b[0m \u001b[38;5;244m 0       \u001b[0m \u001b[38;5;244m 0       \u001b[0m \u001b[38;5;244m 1       \u001b[0m  \u001b[0m\n",
            "\n"
          ]
        }
      ],
      "source": [
        "angles=np.array([30,00,0,0,0,0,0])\n",
        "angles_rad=np.radians(angles)\n",
        "print(angles_rad)\n",
        "T=panda.fkine(angles_rad)\n",
        "print(\"Transformation Matrix :\\n\",T)"
      ]
    },
    {
      "cell_type": "markdown",
      "metadata": {
        "id": "haMGTlmL7W0k"
      },
      "source": [
        "### Inverse Kinematics Solver"
      ]
    },
    {
      "cell_type": "code",
      "execution_count": 14,
      "metadata": {
        "id": "XDtwV5Zg7WOn"
      },
      "outputs": [
        {
          "name": "stdout",
          "output_type": "stream",
          "text": [
            "\n",
            "Inverse Kinematics Solution :\n",
            " IKSolution: q=[-1.015, 2.329, 1.866, -0.438, 0.97, 1.043, 1.304], success=False, reason=iteration and search limit reached, iterations=3000, searches=100, residual=0.0126\n"
          ]
        }
      ],
      "source": [
        "point = SE3(0.6, -0.5, 0.0)\n",
        "point_sol = panda.ikine_LM(point)\n",
        "print(\"\\nInverse Kinematics Solution :\\n\" ,point_sol)\n"
      ]
    },
    {
      "attachments": {},
      "cell_type": "markdown",
      "metadata": {
        "id": "VdhHFXEtGakV"
      },
      "source": [
        "# Custom Robotic Arm Kinematics"
      ]
    },
    {
      "attachments": {},
      "cell_type": "markdown",
      "metadata": {
        "id": "yaPVvJGwXVFU"
      },
      "source": [
        "## Bazu Robotic Arm"
      ]
    },
    {
      "cell_type": "markdown",
      "metadata": {
        "id": "ij1sdIREUVRi"
      },
      "source": [
        "### Forward Kinematics"
      ]
    },
    {
      "cell_type": "code",
      "execution_count": 16,
      "metadata": {
        "colab": {
          "base_uri": "https://localhost:8080/"
        },
        "id": "K4BVCSCkDv0W",
        "outputId": "d574099b-774b-4a4a-c0c6-1227531a6927"
      },
      "outputs": [
        {
          "data": {
            "text/plain": [
              "DHRobot: , 3 joints (RRR), dynamics, standard DH parameters\n",
              "┌────┬─────┬─────┬───────┐\n",
              "│θⱼ  │ dⱼ  │ aⱼ  │  ⍺ⱼ   │\n",
              "├────┼─────┼─────┼───────┤\n",
              "│ q1\u001b[0m │ 0.5\u001b[0m │   0\u001b[0m │ 90.0°\u001b[0m │\n",
              "│ q2\u001b[0m │   0\u001b[0m │ 0.4\u001b[0m │  0.0°\u001b[0m │\n",
              "│ q3\u001b[0m │   0\u001b[0m │ 0.4\u001b[0m │  0.0°\u001b[0m │\n",
              "└────┴─────┴─────┴───────┘\n",
              "\n",
              "┌─┬──┐\n",
              "└─┴──┘"
            ]
          },
          "execution_count": 16,
          "metadata": {},
          "output_type": "execute_result"
        }
      ],
      "source": [
        "## Creating Robotic arm through defining links and Serial Linkage\n",
        "Link_1=rtb.DHLink(0.5, math.pi/2, 0, 0)\n",
        "Link_2=rtb.DHLink(0,    0,   0, 0.4)\n",
        "Link_3=rtb.DHLink(0,    0,   0, 0.4)\n",
        "bazu_robot= rtb.DHRobot([Link_1 ,Link_2,Link_3])\n",
        "bazu_robot"
      ]
    },
    {
      "cell_type": "code",
      "execution_count": 17,
      "metadata": {
        "colab": {
          "base_uri": "https://localhost:8080/"
        },
        "id": "Ezd9ruOmHDRD",
        "outputId": "a1d34bc3-3bae-4335-d662-60969ce978bd"
      },
      "outputs": [
        {
          "name": "stdout",
          "output_type": "stream",
          "text": [
            "Transformation Matrix :\n",
            "   \u001b[38;5;1m 0.5567  \u001b[0m \u001b[38;5;1m-0.3214  \u001b[0m \u001b[38;5;1m 0.766   \u001b[0m \u001b[38;5;4m 0.4453  \u001b[0m  \u001b[0m\n",
            "  \u001b[38;5;1m 0.6634  \u001b[0m \u001b[38;5;1m-0.383   \u001b[0m \u001b[38;5;1m-0.6428  \u001b[0m \u001b[38;5;4m 0.5307  \u001b[0m  \u001b[0m\n",
            "  \u001b[38;5;1m 0.5     \u001b[0m \u001b[38;5;1m 0.866   \u001b[0m \u001b[38;5;1m 0       \u001b[0m \u001b[38;5;4m 0.9     \u001b[0m  \u001b[0m\n",
            "  \u001b[38;5;244m 0       \u001b[0m \u001b[38;5;244m 0       \u001b[0m \u001b[38;5;244m 0       \u001b[0m \u001b[38;5;244m 1       \u001b[0m  \u001b[0m\n",
            "\n"
          ]
        }
      ],
      "source": [
        "##Forward Kinematics\n",
        "\n",
        "q1=50\n",
        "q2=30\n",
        "q3=0\n",
        "\n",
        "T=bazu_robot.fkine([math.radians(q1),math.radians(q2),math.radians(q3)])\n",
        "\n",
        "print(\"Transformation Matrix :\\n\",T)"
      ]
    },
    {
      "cell_type": "markdown",
      "metadata": {
        "id": "fJKhyvgnUaMZ"
      },
      "source": [
        "### Inverse Kinematics"
      ]
    },
    {
      "cell_type": "code",
      "execution_count": 18,
      "metadata": {
        "colab": {
          "base_uri": "https://localhost:8080/"
        },
        "id": "ks1Yl5kUUfmL",
        "outputId": "b416ceb3-48ff-46bd-c1ea-8fa53bf2ba32"
      },
      "outputs": [
        {
          "name": "stdout",
          "output_type": "stream",
          "text": [
            "point-> x: 1.50 ,y: 2.50 ,z: 2.30\n",
            "IKSolution: q=[-2.874, 1.326, 1.669], success=False, reason=iteration and search limit reached, iterations=3000, searches=100, residual=1.36\n"
          ]
        }
      ],
      "source": [
        "# Selection a point to get inverse kinematics solution as angles\n",
        "print(\"point-> x: %2.2f ,y: %2.2f ,z: %2.2f\" %(1.5,2.5,2.3) )\n",
        "point = SE3( 0.4453 , 0.5307 , 0.9  )\n",
        "point_sol = bazu_robot.ikine_LM(point)\n",
        "print(point_sol)"
      ]
    },
    {
      "cell_type": "markdown",
      "metadata": {
        "id": "EX0J5FRWZwlX"
      },
      "source": [
        "### Making things symbolic for implementation"
      ]
    },
    {
      "cell_type": "code",
      "execution_count": 19,
      "metadata": {
        "colab": {
          "base_uri": "https://localhost:8080/"
        },
        "id": "GSngjNT4dlMY",
        "outputId": "cab5443f-ee34-435c-9dce-de76968ad8bb"
      },
      "outputs": [
        {
          "name": "stdout",
          "output_type": "stream",
          "text": [
            "symblic Links :  (l_1, l_2, l_3)\n"
          ]
        }
      ],
      "source": [
        "L = sym.symbol('l_1:4') # Symbolics for links\n",
        "print(\"symblic Links : \",L)\n",
        "Link_1=rtb.DHLink(L[0], math.pi/2, 0, 0)\n",
        "Link_2=rtb.DHLink(0,    0,   0, L[1])\n",
        "Link_3=rtb.DHLink(0,    0,   0, L[2])\n",
        "Kaka_robot_symbolic= rtb.DHRobot([Link_1 ,Link_2,Link_3])"
      ]
    },
    {
      "cell_type": "code",
      "execution_count": 20,
      "metadata": {
        "colab": {
          "base_uri": "https://localhost:8080/"
        },
        "id": "y8kZGulvGe7T",
        "outputId": "4642a6ac-abb5-4d85-e500-aa37ae1d2842"
      },
      "outputs": [
        {
          "name": "stdout",
          "output_type": "stream",
          "text": [
            "symblic Angles :  (q1, q2, q3)\n"
          ]
        }
      ],
      "source": [
        "Q= sym.symbol('q1:4')   # Symbolics for rotations angles\n",
        "print(\"symblic Angles : \",Q)"
      ]
    },
    {
      "cell_type": "code",
      "execution_count": 21,
      "metadata": {
        "colab": {
          "base_uri": "https://localhost:8080/"
        },
        "id": "2ZWcaT9PdFuS",
        "outputId": "c8f6f985-392d-429c-e588-d3c42a5b1a30"
      },
      "outputs": [
        {
          "data": {
            "text/plain": [
              "  \u001b[38;5;1m(-6.12323399573677e-17*sin(q1)*sin(q2) + cos(q1)*cos(q2))*cos(q3) + (-6.12323399573677e-17*sin(q1)*cos(q2) - 1.0*sin(q2)*cos(q1))*sin(q3)\u001b[0m \u001b[38;5;1m-1.0*(-6.12323399573677e-17*sin(q1)*sin(q2) + cos(q1)*cos(q2))*sin(q3) + 1.0*(-6.12323399573677e-17*sin(q1)*cos(q2) - 1.0*sin(q2)*cos(q1))*cos(q3)\u001b[0m \u001b[38;5;1m1.0*sin(q1) \u001b[0m \u001b[38;5;4m-6.12323399573677e-17*l_2*sin(q1)*sin(q2) + l_2*cos(q1)*cos(q2) + l_3*(-6.12323399573677e-17*sin(q1)*sin(q2) + cos(q1)*cos(q2))*cos(q3) + l_3*(-6.12323399573677e-17*sin(q1)*cos(q2) - 1.0*sin(q2)*cos(q1))*sin(q3)\u001b[0m  \u001b[0m\n",
              "  \u001b[38;5;1m(-1.0*sin(q1)*sin(q2) + 6.12323399573677e-17*cos(q1)*cos(q2))*sin(q3) + (sin(q1)*cos(q2) + 6.12323399573677e-17*sin(q2)*cos(q1))*cos(q3)\u001b[0m \u001b[38;5;1m1.0*(-1.0*sin(q1)*sin(q2) + 6.12323399573677e-17*cos(q1)*cos(q2))*cos(q3) - 1.0*(sin(q1)*cos(q2) + 6.12323399573677e-17*sin(q2)*cos(q1))*sin(q3)\u001b[0m \u001b[38;5;1m-1.0*cos(q1)\u001b[0m \u001b[38;5;4ml_2*sin(q1)*cos(q2) + 6.12323399573677e-17*l_2*sin(q2)*cos(q1) + l_3*(-1.0*sin(q1)*sin(q2) + 6.12323399573677e-17*cos(q1)*cos(q2))*sin(q3) + l_3*(sin(q1)*cos(q2) + 6.12323399573677e-17*sin(q2)*cos(q1))*cos(q3)\u001b[0m  \u001b[0m\n",
              "  \u001b[38;5;1m1.0*sin(q2)*cos(q3) + 1.0*sin(q3)*cos(q2)\u001b[0m \u001b[38;5;1m-1.0*sin(q2)*sin(q3) + 1.0*cos(q2)*cos(q3)\u001b[0m \u001b[38;5;1m6.12323399573677e-17\u001b[0m \u001b[38;5;4ml_1 + 1.0*l_2*sin(q2) + 1.0*l_3*sin(q2)*cos(q3) + 1.0*l_3*sin(q3)*cos(q2)\u001b[0m  \u001b[0m\n",
              "  \u001b[38;5;244m0           \u001b[0m \u001b[38;5;244m0           \u001b[0m \u001b[38;5;244m0           \u001b[0m \u001b[38;5;244m1           \u001b[0m  \u001b[0m\n"
            ]
          },
          "execution_count": 21,
          "metadata": {},
          "output_type": "execute_result"
        }
      ],
      "source": [
        "point = SE3(0.6, -0.5, 0.0)\n",
        "# point_sol = puma.ikine_LM(point)\n",
        "T_symbolic=Kaka_robot_symbolic.fkine(Q)\n",
        "T_symbolic"
      ]
    },
    {
      "cell_type": "code",
      "execution_count": 22,
      "metadata": {
        "colab": {
          "base_uri": "https://localhost:8080/",
          "height": 118
        },
        "id": "ShrDTAaVQHxp",
        "outputId": "be17193e-ca53-4057-bbe5-cc9a7b9fc64f"
      },
      "outputs": [
        {
          "ename": "NameError",
          "evalue": "name 'Matrix' is not defined",
          "output_type": "error",
          "traceback": [
            "\u001b[0;31m---------------------------------------------------------------------------\u001b[0m",
            "\u001b[0;31mNameError\u001b[0m                                 Traceback (most recent call last)",
            "Cell \u001b[0;32mIn[22], line 2\u001b[0m\n\u001b[1;32m      1\u001b[0m Ts_symbolic \u001b[38;5;241m=\u001b[39m T_symbolic\u001b[38;5;241m.\u001b[39msimplify()\n\u001b[0;32m----> 2\u001b[0m M \u001b[38;5;241m=\u001b[39m \u001b[43mMatrix\u001b[49m(Ts_symbolic\u001b[38;5;241m.\u001b[39mA)\n\u001b[1;32m      3\u001b[0m M\n",
            "\u001b[0;31mNameError\u001b[0m: name 'Matrix' is not defined"
          ]
        }
      ],
      "source": [
        "Ts_symbolic = T_symbolic.simplify()\n",
        "M = Matrix(Ts_symbolic.A)\n",
        "M"
      ]
    },
    {
      "cell_type": "code",
      "execution_count": 24,
      "metadata": {
        "colab": {
          "base_uri": "https://localhost:8080/",
          "height": 78
        },
        "id": "4FyXFk-Fenqj",
        "outputId": "d81e3f3e-a8c2-4fbb-852c-7e4f3c1527a3"
      },
      "outputs": [
        {
          "ename": "NameError",
          "evalue": "name 'M' is not defined",
          "output_type": "error",
          "traceback": [
            "\u001b[0;31m---------------------------------------------------------------------------\u001b[0m",
            "\u001b[0;31mNameError\u001b[0m                                 Traceback (most recent call last)",
            "Cell \u001b[0;32mIn[24], line 1\u001b[0m\n\u001b[0;32m----> 1\u001b[0m \u001b[43mM\u001b[49m[:\u001b[38;5;241m3\u001b[39m,\u001b[38;5;241m3\u001b[39m] \u001b[38;5;66;03m# extracting translation part\u001b[39;00m\n",
            "\u001b[0;31mNameError\u001b[0m: name 'M' is not defined"
          ]
        }
      ],
      "source": [
        "M[:3,3] # extracting translation part"
      ]
    },
    {
      "cell_type": "code",
      "execution_count": 23,
      "metadata": {
        "colab": {
          "base_uri": "https://localhost:8080/"
        },
        "id": "XQT6fnrWQUro",
        "outputId": "7a3b0fc9-a2bc-4423-f17b-ba75ff8886ba"
      },
      "outputs": [
        {
          "ename": "NameError",
          "evalue": "name 'Kaka_robot' is not defined",
          "output_type": "error",
          "traceback": [
            "\u001b[0;31m---------------------------------------------------------------------------\u001b[0m",
            "\u001b[0;31mNameError\u001b[0m                                 Traceback (most recent call last)",
            "Cell \u001b[0;32mIn[23], line 1\u001b[0m\n\u001b[0;32m----> 1\u001b[0m T\u001b[38;5;241m=\u001b[39m\u001b[43mKaka_robot\u001b[49m\u001b[38;5;241m.\u001b[39mfkine([\u001b[38;5;241m40\u001b[39m,\u001b[38;5;241m30\u001b[39m,\u001b[38;5;241m10\u001b[39m])  \u001b[38;5;66;03m# NON symbolic\u001b[39;00m\n\u001b[1;32m      2\u001b[0m T\n",
            "\u001b[0;31mNameError\u001b[0m: name 'Kaka_robot' is not defined"
          ]
        }
      ],
      "source": [
        "T=Kaka_robot.fkine([40,30,10])  # NON symbolic\n",
        "T"
      ]
    },
    {
      "cell_type": "markdown",
      "metadata": {
        "id": "5zK9wwFXfVJe"
      },
      "source": [
        "**OUR FINAL RESULTS TO IMPLEMENT IN CODE**\n",
        "\n",
        "- X = l_2*cos(q1)*cos(q2) + l_3*cos(q1)*cos(q2 + q3)\n",
        "- Y = l_2*sin(q1)*cos(q2) + l_3*sin(q1)*cos(q2 + q3)\n",
        "- Z = l_1 + l_2*sin(q2)   + l_3*sin(q2 + q3)"
      ]
    },
    {
      "cell_type": "markdown",
      "metadata": {
        "id": "i1Up1Kzcl0IC"
      },
      "source": [
        "## Testing URDF"
      ]
    },
    {
      "cell_type": "code",
      "execution_count": null,
      "metadata": {
        "id": "ryWQiRspmPqA"
      },
      "outputs": [],
      "source": [
        "import roboticstoolbox as rtb\n",
        "robot = rtb.models.DH.Panda()\n",
        "print(robot)\n",
        "T = robot.fkine(robot.qz)  # forward kinematics\n",
        "print(T)"
      ]
    },
    {
      "cell_type": "code",
      "execution_count": 21,
      "metadata": {
        "colab": {
          "base_uri": "https://localhost:8080/"
        },
        "id": "Is9WaPb3qv08",
        "outputId": "e0c75ea0-945e-4387-b632-f3c8ac3cfeb2"
      },
      "outputs": [
        {
          "name": "stdout",
          "output_type": "stream",
          "text": [
            "IKsolution(q=array([ 0.21343385,  1.8669104 , -0.22639717,  0.48252627,  0.2197902 ,  1.3958973 , -2.03679145]), success=True, reason=None, iterations=12, residual=1.4517611973679024e-11)\n",
            "  \u001b[38;5;1m-1       \u001b[0m \u001b[38;5;1m 9.436e-14\u001b[0m \u001b[38;5;1m 2.439e-12\u001b[0m \u001b[38;5;4m 0.7     \u001b[0m  \u001b[0m\n",
            "  \u001b[38;5;1m 9.445e-14\u001b[0m \u001b[38;5;1m 1       \u001b[0m \u001b[38;5;1m 7.257e-13\u001b[0m \u001b[38;5;4m 0.2     \u001b[0m  \u001b[0m\n",
            "  \u001b[38;5;1m-2.439e-12\u001b[0m \u001b[38;5;1m 7.257e-13\u001b[0m \u001b[38;5;1m-1       \u001b[0m \u001b[38;5;4m 0.1     \u001b[0m  \u001b[0m\n",
            "  \u001b[38;5;244m 0       \u001b[0m \u001b[38;5;244m 0       \u001b[0m \u001b[38;5;244m 0       \u001b[0m \u001b[38;5;244m 1       \u001b[0m  \u001b[0m\n",
            "\n"
          ]
        }
      ],
      "source": [
        "from spatialmath import SE3\n",
        "\n",
        "T = SE3(0.7, 0.2, 0.1) * SE3.OA([0, 1, 0], [0, 0, -1])\n",
        "sol = robot.ikine_LM(T)         # solve IK\n",
        "print(sol)\n",
        "q_pickup = sol.q\n",
        "print(robot.fkine(q_pickup))"
      ]
    },
    {
      "cell_type": "code",
      "execution_count": 26,
      "metadata": {
        "colab": {
          "base_uri": "https://localhost:8080/",
          "height": 741
        },
        "id": "xS_OYANvq1VI",
        "outputId": "26903e7a-c09f-49bd-8e14-f7d1f0cb808e"
      },
      "outputs": [
        {
          "name": "stdout",
          "output_type": "stream",
          "text": [
            "ERobot: panda (by Franka Emika), 7 joints (RRRRRRR), geometry, collision\n",
            "┌───┬──────────────┬───────┬─────────────┬─────────────────────────────────────────────────────────────────────────────┐\n",
            "│id │     link     │ joint │   parent    │                                     ETS                                     │\n",
            "├───┼──────────────┼───────┼─────────────┼─────────────────────────────────────────────────────────────────────────────┤\n",
            "│ 1\u001b[0m │ \u001b[38;5;4mpanda_link0\u001b[0m  │      \u001b[0m │ BASE\u001b[0m        │ {panda_link0} = {BASE}\u001b[0m                                                      │\n",
            "│ 2\u001b[0m │ panda_link1\u001b[0m  │     0\u001b[0m │ panda_link0\u001b[0m │ {panda_link1} = {panda_link0} ⊕ tz(0.333) ⊕ Rz(q0)\u001b[0m                          │\n",
            "│ 3\u001b[0m │ panda_link2\u001b[0m  │     1\u001b[0m │ panda_link1\u001b[0m │ {panda_link2} = {panda_link1} ⊕ Rx(-90°) ⊕ Rz(q1)\u001b[0m                           │\n",
            "│ 4\u001b[0m │ panda_link3\u001b[0m  │     2\u001b[0m │ panda_link2\u001b[0m │ {panda_link3} = {panda_link2} ⊕ ty(-0.316) ⊕ Rx(90°) ⊕ Rz(q2)\u001b[0m               │\n",
            "│ 5\u001b[0m │ panda_link4\u001b[0m  │     3\u001b[0m │ panda_link3\u001b[0m │ {panda_link4} = {panda_link3} ⊕ tx(0.0825) ⊕ Rx(90°) ⊕ Rz(q3)\u001b[0m               │\n",
            "│ 6\u001b[0m │ panda_link5\u001b[0m  │     4\u001b[0m │ panda_link4\u001b[0m │ {panda_link5} = {panda_link4} ⊕ tx(-0.0825) ⊕ ty(0.384) ⊕ Rx(-90°) ⊕ Rz(q4)\u001b[0m │\n",
            "│ 7\u001b[0m │ panda_link6\u001b[0m  │     5\u001b[0m │ panda_link5\u001b[0m │ {panda_link6} = {panda_link5} ⊕ Rx(90°) ⊕ Rz(q5)\u001b[0m                            │\n",
            "│ 8\u001b[0m │ panda_link7\u001b[0m  │     6\u001b[0m │ panda_link6\u001b[0m │ {panda_link7} = {panda_link6} ⊕ tx(0.088) ⊕ Rx(90°) ⊕ Rz(q6)\u001b[0m                │\n",
            "│ 9\u001b[0m │ \u001b[38;5;4m@panda_link8\u001b[0m │      \u001b[0m │ panda_link7\u001b[0m │ {panda_link8} = {panda_link7} ⊕ tz(0.107)\u001b[0m                                   │\n",
            "└───┴──────────────┴───────┴─────────────┴─────────────────────────────────────────────────────────────────────────────┘\n",
            "\n",
            "┌─────┬─────┬────────┬─────┬───────┬─────┬───────┬──────┐\n",
            "│name │ q0  │ q1     │ q2  │ q3    │ q4  │ q5    │ q6   │\n",
            "├─────┼─────┼────────┼─────┼───────┼─────┼───────┼──────┤\n",
            "│  qz\u001b[0m │  0°\u001b[0m │  0°\u001b[0m    │  0°\u001b[0m │  0°\u001b[0m   │  0°\u001b[0m │  0°\u001b[0m   │  0°\u001b[0m  │\n",
            "│  qr\u001b[0m │  0°\u001b[0m │ -17.2°\u001b[0m │  0°\u001b[0m │ -126°\u001b[0m │  0°\u001b[0m │  115°\u001b[0m │  45°\u001b[0m │\n",
            "└─────┴─────┴────────┴─────┴───────┴─────┴───────┴──────┘\n",
            "\n"
          ]
        },
        {
          "ename": "ModuleNotFoundError",
          "evalue": "ignored",
          "output_type": "error",
          "traceback": [
            "\u001b[0;31m---------------------------------------------------------------------------\u001b[0m",
            "\u001b[0;31mModuleNotFoundError\u001b[0m                       Traceback (most recent call last)",
            "\u001b[0;32m<ipython-input-26-ef911006f1b2>\u001b[0m in \u001b[0;36m<module>\u001b[0;34m()\u001b[0m\n\u001b[1;32m      1\u001b[0m \u001b[0mrobot\u001b[0m \u001b[0;34m=\u001b[0m \u001b[0mrtb\u001b[0m\u001b[0;34m.\u001b[0m\u001b[0mmodels\u001b[0m\u001b[0;34m.\u001b[0m\u001b[0mURDF\u001b[0m\u001b[0;34m.\u001b[0m\u001b[0mPanda\u001b[0m\u001b[0;34m(\u001b[0m\u001b[0;34m)\u001b[0m  \u001b[0;31m# load URDF version of the Panda\u001b[0m\u001b[0;34m\u001b[0m\u001b[0;34m\u001b[0m\u001b[0m\n\u001b[1;32m      2\u001b[0m \u001b[0mprint\u001b[0m\u001b[0;34m(\u001b[0m\u001b[0mrobot\u001b[0m\u001b[0;34m)\u001b[0m\u001b[0;34m\u001b[0m\u001b[0;34m\u001b[0m\u001b[0m\n\u001b[0;32m----> 3\u001b[0;31m \u001b[0;32mfrom\u001b[0m \u001b[0mroboticstoolbox\u001b[0m\u001b[0;34m.\u001b[0m\u001b[0mbackends\u001b[0m\u001b[0;34m.\u001b[0m\u001b[0mSwift\u001b[0m \u001b[0;32mimport\u001b[0m \u001b[0mSwift\u001b[0m  \u001b[0;31m# instantiate 3D browser-based visualizer\u001b[0m\u001b[0;34m\u001b[0m\u001b[0;34m\u001b[0m\u001b[0m\n\u001b[0m\u001b[1;32m      4\u001b[0m \u001b[0mbackend\u001b[0m \u001b[0;34m=\u001b[0m \u001b[0mSwift\u001b[0m\u001b[0;34m(\u001b[0m\u001b[0;34m)\u001b[0m\u001b[0;34m\u001b[0m\u001b[0;34m\u001b[0m\u001b[0m\n\u001b[1;32m      5\u001b[0m \u001b[0mbackend\u001b[0m\u001b[0;34m.\u001b[0m\u001b[0mlaunch\u001b[0m\u001b[0;34m(\u001b[0m\u001b[0;34m)\u001b[0m            \u001b[0;31m# activate it\u001b[0m\u001b[0;34m\u001b[0m\u001b[0;34m\u001b[0m\u001b[0m\n",
            "\u001b[0;31mModuleNotFoundError\u001b[0m: No module named 'roboticstoolbox.backends.Swift'",
            "",
            "\u001b[0;31m---------------------------------------------------------------------------\u001b[0;32m\nNOTE: If your import is failing due to a missing package, you can\nmanually install dependencies using either !pip or !apt.\n\nTo view examples of installing some common dependencies, click the\n\"Open Examples\" button below.\n\u001b[0;31m---------------------------------------------------------------------------\u001b[0m\n"
          ]
        }
      ],
      "source": [
        "theta = np.array([0., 0., -0.25 * pi, 0., 0., 0.])\n",
        "f = robot.forward(theta)"
      ]
    },
    {
      "cell_type": "code",
      "execution_count": null,
      "metadata": {
        "colab": {
          "base_uri": "https://localhost:8080/"
        },
        "id": "IdG5Gb16r9wZ",
        "outputId": "a17ccf1c-23d9-4d5a-95c9-38efb95a3a05"
      },
      "outputs": [
        {
          "name": "stdout",
          "output_type": "stream",
          "text": [
            "-------forward-------\n",
            "end frame t_4_4:\n",
            "[[ 7.07106781e-01 -7.07106781e-01 -2.09060286e-16 -4.97096067e-01]\n",
            " [-1.65762483e-16  1.29893408e-16 -1.00000000e+00 -2.95300000e-01]\n",
            " [ 7.07106781e-01  7.07106781e-01 -2.53632657e-17  1.29209607e+00]\n",
            " [ 0.00000000e+00  0.00000000e+00  0.00000000e+00  1.00000000e+00]]\n",
            "end frame xyz:\n",
            "[-0.49709607 -0.2953      1.29209607]\n",
            "end frame abc:\n",
            "[-1.57009246e-16 -7.85398163e-01  1.57079633e+00]\n",
            "end frame rotational matrix:\n",
            "[[ 7.07106781e-01 -7.07106781e-01 -2.09060286e-16]\n",
            " [-1.65762483e-16  1.29893408e-16 -1.00000000e+00]\n",
            " [ 7.07106781e-01  7.07106781e-01 -2.53632657e-17]]\n",
            "end frame quaternion:\n",
            "[ 0.65328148 -0.27059805  0.27059805  0.65328148]\n",
            "end frame angle-axis:\n",
            "[ 1.48218982 -0.61394313  0.61394313]\n"
          ]
        }
      ],
      "source": [
        "print(\"-------forward-------\")\n",
        "print(\"end frame t_4_4:\")\n",
        "print(f.t_4_4)\n",
        "print(\"end frame xyz:\")\n",
        "print(f.t_3_1.reshape([3, ]))\n",
        "print(\"end frame abc:\")\n",
        "print(f.euler_3)\n",
        "print(\"end frame rotational matrix:\")\n",
        "print(f.r_3_3)\n",
        "print(\"end frame quaternion:\")\n",
        "print(f.q_4)\n",
        "print(\"end frame angle-axis:\")\n",
        "print(f.r_3)"
      ]
    },
    {
      "cell_type": "code",
      "execution_count": null,
      "metadata": {
        "colab": {
          "base_uri": "https://localhost:8080/"
        },
        "id": "Asc6Df3NsDC4",
        "outputId": "4a328289-6501-45f3-b6a6-ee44e652ede1"
      },
      "outputs": [
        {
          "data": {
            "text/plain": [
              "array([ 0.79760367, -0.72234533, -0.92168697,  1.37145959, -1.57072942,\n",
              "       -2.34399122])"
            ]
          },
          "execution_count": 44,
          "metadata": {},
          "output_type": "execute_result"
        }
      ],
      "source": [
        "xyz = np.array([[0.28127], [0.], [1.13182]])\n",
        "abc = np.array([0.5 * pi, 0., pi])\n",
        "end = Frame.from_euler_3(abc, xyz)\n",
        "robot.inverse(end)\n",
        "print(\"inverse is successful: {0}\".format(robot.is_reachable_inverse))\n",
        "print(\"axis values: \\n{0}\".format(robot.axis_values))\n",
        "robot.show()"
      ]
    },
    {
      "cell_type": "code",
      "execution_count": null,
      "metadata": {
        "colab": {
          "base_uri": "https://localhost:8080/"
        },
        "id": "r_iIfm5lsHol",
        "outputId": "73da2648-8411-4a6b-e838-b20fe35c49cd"
      },
      "outputs": [
        {
          "name": "stdout",
          "output_type": "stream",
          "text": [
            "inverse is successful: True\n",
            "axis values: \n",
            "[ 0.79760367 -0.72234533 -0.92168697  1.37145959 -1.57072942 -2.34399122]\n"
          ]
        },
        {
          "name": "stderr",
          "output_type": "stream",
          "text": [
            "/usr/local/lib/python3.7/dist-packages/numpy/core/_asarray.py:136: VisibleDeprecationWarning: Creating an ndarray from ragged nested sequences (which is a list-or-tuple of lists-or-tuples-or ndarrays with different lengths or shapes) is deprecated. If you meant to do this, you must specify 'dtype=object' when creating the ndarray\n",
            "  return array(a, dtype, copy=False, order=order, subok=True)\n"
          ]
        }
      ],
      "source": [
        "print(\"inverse is successful: {0}\".format(robot.is_reachable_inverse))\n",
        "print(\"axis values: \\n{0}\".format(robot.axis_values))\n",
        "robot.show()"
      ]
    },
    {
      "cell_type": "code",
      "execution_count": null,
      "metadata": {
        "id": "URgyfPo9sJII"
      },
      "outputs": [],
      "source": []
    }
  ],
  "metadata": {
    "colab": {
      "collapsed_sections": [
        "rhJRulJsTguA",
        "yaPVvJGwXVFU",
        "EX0J5FRWZwlX"
      ],
      "name": "Robotics_kinematics_solver.ipynb",
      "provenance": []
    },
    "kernelspec": {
      "display_name": "Python 3",
      "name": "python3"
    },
    "language_info": {
      "codemirror_mode": {
        "name": "ipython",
        "version": 3
      },
      "file_extension": ".py",
      "mimetype": "text/x-python",
      "name": "python",
      "nbconvert_exporter": "python",
      "pygments_lexer": "ipython3",
      "version": "3.10.12"
    }
  },
  "nbformat": 4,
  "nbformat_minor": 0
}
